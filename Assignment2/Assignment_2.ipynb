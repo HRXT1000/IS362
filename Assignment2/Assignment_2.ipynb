{
 "cells": [
  {
   "cell_type": "markdown",
   "metadata": {},
   "source": [
    "# <center>IS 362 Assignment 2 2020 Fall</center>"
   ]
  },
  {
   "cell_type": "markdown",
   "metadata": {},
   "source": [
    "# <center>IS 362 Assignment 2 2020 Fall</center>"
   ]
  },
  {
   "cell_type": "markdown",
   "metadata": {},
   "source": [
    "## <center>This is my first Jupyter Notebook</center>\n",
    "### <center>I am typing this notebook with different size headings</center>\n",
    "#### <center>This is heading number 4</center>"
   ]
  },
  {
   "cell_type": "markdown",
   "metadata": {},
   "source": [
    "## <center>This is my first Jupyter Notebook</center>\n",
    "### <center>I am typing this notebook with different size headings</center>\n",
    "#### <center>This is heading number 4</center>"
   ]
  },
  {
   "cell_type": "markdown",
   "metadata": {},
   "source": [
    "##### This is an import of the Cuny SPS logo <br>\n",
    "![My_Text](https://bbhosted.cuny.edu/branding/_1_1/Production.jpg)"
   ]
  },
  {
   "cell_type": "markdown",
   "metadata": {},
   "source": [
    "##### This is an import of the Cuny SPS logo <br>\n",
    "![My_Text](https://bbhosted.cuny.edu/branding/_1_1/Production.jpg)"
   ]
  },
  {
   "cell_type": "markdown",
   "metadata": {},
   "source": [
    "### The below section describes the zip function<br>\n",
    "\n",
    "**ZIP() FUNCTION**\n",
    "* The python zip() function returns a zip object, which is an iterator of tuples where the first item in each passed iterator is paired together, and then the second item in each passed iterator are paired togeter etc.\n",
    "* The syntax of zip() is: zip(*iterables)\n",
    "* [Python Zip Function](https://www.w3schools.com/python/ref_func_zip.asp)"
   ]
  },
  {
   "cell_type": "markdown",
   "metadata": {},
   "source": [
    "### The below section describes the zip function<br>\n",
    "\n",
    "**ZIP() FUNCTION**\n",
    "* The python zip() function returns a zip object, which is an iterator of tuples where the first item in each passed iterator is paired together, and then the second item in each passed iterator are paired togeter etc.\n",
    "* The syntax of zip() is: zip(*iterables)\n",
    "* [Python Zip Function](https://www.w3schools.com/python/ref_func_zip.asp)"
   ]
  }
 ],
 "metadata": {
  "kernelspec": {
   "display_name": "Python 3",
   "language": "python",
   "name": "python3"
  },
  "language_info": {
   "codemirror_mode": {
    "name": "ipython",
    "version": 3
   },
   "file_extension": ".py",
   "mimetype": "text/x-python",
   "name": "python",
   "nbconvert_exporter": "python",
   "pygments_lexer": "ipython3",
   "version": "3.6.7"
  }
 },
 "nbformat": 4,
 "nbformat_minor": 2
}
