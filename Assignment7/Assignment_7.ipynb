{
 "cells": [
  {
   "cell_type": "markdown",
   "metadata": {},
   "source": [
    "# IS362 Fall 2020 Assignment 7"
   ]
  },
  {
   "cell_type": "markdown",
   "metadata": {},
   "source": [
    "#### Choose six recent popular movies. Ask at least five people that you know (friends, family, classmates, imaginary friends) to rate each of these movies that they have seen on a scale of 1 to 5. There should be at least one movie that not everyone has seen!\n",
    "####  Take the results (observations) and store them somewhere (like a SQL database, or a .CSV file). Load the information into a pandas dataframe. Your solution should include Python and pandas code that accomplishes the following:\n",
    "\n",
    "##### 1. Load the ratings by user information that you collected into a pandas dataframe.\n",
    "\n",
    "##### 2. Show the average ratings for each user and each movie.\n",
    "\n",
    "##### 3. Create a new pandas dataframe, with normalized ratings for each user. Again, show the average ratings for each user and each movie.\n",
    "\n",
    "##### 4. Provide a text-based conclusion: explain what might be advantages and disadvantages of using normalized ratings instead of the actual ratings.\n",
    "\n",
    "##### 5. [Extra credit] Create another new pandas dataframe, with standardized ratings for each user. Once again, show the average ratings for each user and each movie."
   ]
  },
  {
   "cell_type": "code",
   "execution_count": 1,
   "metadata": {},
   "outputs": [],
   "source": [
    "import pandas as pd\n",
    "import numpy as np"
   ]
  },
  {
   "cell_type": "markdown",
   "metadata": {},
   "source": [
    "##### 1. Load ratings in a Pandas dataframe:"
   ]
  },
  {
   "cell_type": "code",
   "execution_count": 2,
   "metadata": {},
   "outputs": [],
   "source": [
    "movie_ratings = pd.read_csv(r'C:\\Users\\HR\\Documents\\IS362\\Assignment7\\movies.csv', index_col=0)"
   ]
  },
  {
   "cell_type": "markdown",
   "metadata": {},
   "source": [
    "###### Check the loaded file with \"head\" to show the top entries of the file"
   ]
  },
  {
   "cell_type": "code",
   "execution_count": 3,
   "metadata": {},
   "outputs": [
    {
     "data": {
      "text/html": [
       "<div>\n",
       "<style scoped>\n",
       "    .dataframe tbody tr th:only-of-type {\n",
       "        vertical-align: middle;\n",
       "    }\n",
       "\n",
       "    .dataframe tbody tr th {\n",
       "        vertical-align: top;\n",
       "    }\n",
       "\n",
       "    .dataframe thead th {\n",
       "        text-align: right;\n",
       "    }\n",
       "</style>\n",
       "<table border=\"1\" class=\"dataframe\">\n",
       "  <thead>\n",
       "    <tr style=\"text-align: right;\">\n",
       "      <th></th>\n",
       "      <th>AmericanSniper</th>\n",
       "      <th>EdgeofTomorrow</th>\n",
       "      <th>GroundhogDay</th>\n",
       "      <th>JurassicWorld</th>\n",
       "      <th>LostInTranslation</th>\n",
       "      <th>Lucy</th>\n",
       "    </tr>\n",
       "  </thead>\n",
       "  <tbody>\n",
       "    <tr>\n",
       "      <th>John</th>\n",
       "      <td>4</td>\n",
       "      <td>NaN</td>\n",
       "      <td>5.0</td>\n",
       "      <td>5.0</td>\n",
       "      <td>4.0</td>\n",
       "      <td>3</td>\n",
       "    </tr>\n",
       "    <tr>\n",
       "      <th>Logan</th>\n",
       "      <td>5</td>\n",
       "      <td>5.0</td>\n",
       "      <td>4.0</td>\n",
       "      <td>NaN</td>\n",
       "      <td>3.0</td>\n",
       "      <td>1</td>\n",
       "    </tr>\n",
       "    <tr>\n",
       "      <th>Modesto</th>\n",
       "      <td>3</td>\n",
       "      <td>2.0</td>\n",
       "      <td>NaN</td>\n",
       "      <td>4.0</td>\n",
       "      <td>5.0</td>\n",
       "      <td>3</td>\n",
       "    </tr>\n",
       "    <tr>\n",
       "      <th>Malcolm</th>\n",
       "      <td>3</td>\n",
       "      <td>NaN</td>\n",
       "      <td>4.0</td>\n",
       "      <td>3.0</td>\n",
       "      <td>4.0</td>\n",
       "      <td>2</td>\n",
       "    </tr>\n",
       "    <tr>\n",
       "      <th>Maurice</th>\n",
       "      <td>2</td>\n",
       "      <td>2.0</td>\n",
       "      <td>4.0</td>\n",
       "      <td>5.0</td>\n",
       "      <td>NaN</td>\n",
       "      <td>4</td>\n",
       "    </tr>\n",
       "  </tbody>\n",
       "</table>\n",
       "</div>"
      ],
      "text/plain": [
       "           AmericanSniper  EdgeofTomorrow  GroundhogDay  JurassicWorld  LostInTranslation  Lucy\n",
       "John                    4             NaN           5.0            5.0                4.0     3\n",
       "Logan                   5             5.0           4.0            NaN                3.0     1\n",
       "Modesto                 3             2.0           NaN            4.0                5.0     3\n",
       "Malcolm                 3             NaN           4.0            3.0                4.0     2\n",
       "Maurice                 2             2.0           4.0            5.0                NaN     4"
      ]
     },
     "execution_count": 3,
     "metadata": {},
     "output_type": "execute_result"
    }
   ],
   "source": [
    "movie_ratings.head()"
   ]
  },
  {
   "cell_type": "markdown",
   "metadata": {},
   "source": [
    "##### 2a. Show average ratings for each user."
   ]
  },
  {
   "cell_type": "code",
   "execution_count": 4,
   "metadata": {},
   "outputs": [
    {
     "data": {
      "text/plain": [
       "John		4.2\n",
       "Logan      	3.6\n",
       "Modesto     3.4\n",
       "Malcolm     3.2\n",
       "Maurice     3.4\n",
       "dtype: float64"
      ]
     },
     "execution_count": 4,
     "metadata": {},
     "output_type": "execute_result"
    }
   ],
   "source": [
    "avg_user_ratings = movie_ratings.mean(axis=1)\n",
    "avg_user_ratings"
   ]
  },
  {
   "cell_type": "markdown",
   "metadata": {},
   "source": [
    "##### 2b Show average ratings for each movie."
   ]
  },
  {
   "cell_type": "code",
   "execution_count": 5,
   "metadata": {},
   "outputs": [
    {
     "data": {
      "text/plain": [
       "AmericanSniper		3.40\n",
       "EdgeofTomorrow      3.00\n",
       "GroundhogDay      	4.25\n",
       "JurassicWorld    	4.25\n",
       "LostInTranslation   4.00\n",
       "Lucy             	2.60\n",
       "dtype: float64"
      ]
     },
     "execution_count": 5,
     "metadata": {},
     "output_type": "execute_result"
    }
   ],
   "source": [
    "avg_movie_ratings = movie_ratings.mean()\n",
    "avg_movie_ratings"
   ]
  },
  {
   "cell_type": "markdown",
   "metadata": {},
   "source": [
    "##### 3. Create a new pandas dataframe with normalization ratings for each user:"
   ]
  },
  {
   "cell_type": "code",
   "execution_count": 6,
   "metadata": {},
   "outputs": [
    {
     "data": {
      "text/html": [
       "<div>\n",
       "<style scoped>\n",
       "    .dataframe tbody tr th:only-of-type {\n",
       "        vertical-align: middle;\n",
       "    }\n",
       "\n",
       "    .dataframe tbody tr th {\n",
       "        vertical-align: top;\n",
       "    }\n",
       "\n",
       "    .dataframe thead th {\n",
       "        text-align: right;\n",
       "    }\n",
       "</style>\n",
       "<table border=\"1\" class=\"dataframe\">\n",
       "  <thead>\n",
       "    <tr style=\"text-align: right;\">\n",
       "      <th></th>\n",
       "      <th>AmericanSniper</th>\n",
       "      <th>EdgeofTomorrow</th>\n",
       "      <th>GroundhogDay</th>\n",
       "      <th>JurassicWorld</th>\n",
       "      <th>LostInTranslation</th>\n",
       "      <th>Lucy</th>\n",
       "    </tr>\n",
       "  </thead>\n",
       "  <tbody>\n",
       "    <tr>\n",
       "      <th>John</th>\n",
       "      <td>0.666667</td>\n",
       "      <td>NaN</td>\n",
       "      <td>1.0</td>\n",
       "      <td>1.0</td>\n",
       "      <td>0.5</td>\n",
       "      <td>0.666667</td>\n",
       "    </tr>\n",
       "    <tr>\n",
       "      <th>Logan</th>\n",
       "      <td>1.000000</td>\n",
       "      <td>1.0</td>\n",
       "      <td>0.0</td>\n",
       "      <td>NaN</td>\n",
       "      <td>0.0</td>\n",
       "      <td>0.000000</td>\n",
       "    </tr>\n",
       "    <tr>\n",
       "      <th>Modesto</th>\n",
       "      <td>0.333333</td>\n",
       "      <td>0.0</td>\n",
       "      <td>NaN</td>\n",
       "      <td>0.5</td>\n",
       "      <td>1.0</td>\n",
       "      <td>0.666667</td>\n",
       "    </tr>\n",
       "    <tr>\n",
       "      <th>Malcolm</th>\n",
       "      <td>0.333333</td>\n",
       "      <td>NaN</td>\n",
       "      <td>0.0</td>\n",
       "      <td>0.0</td>\n",
       "      <td>0.5</td>\n",
       "      <td>0.333333</td>\n",
       "    </tr>\n",
       "    <tr>\n",
       "      <th>Maurice</th>\n",
       "      <td>0.000000</td>\n",
       "      <td>0.0</td>\n",
       "      <td>0.0</td>\n",
       "      <td>1.0</td>\n",
       "      <td>NaN</td>\n",
       "      <td>1.000000</td>\n",
       "    </tr>\n",
       "  </tbody>\n",
       "</table>\n",
       "</div>"
      ],
      "text/plain": [
       "            AmericanSniper  EdgeofTomorrow  GroundhogDay  JurassicWorld  LostInTranslation      Lucy\n",
       "John              0.666667             NaN           1.0            1.0                0.5  0.666667\n",
       "Logan             1.000000             1.0           0.0            NaN                0.0  0.000000\n",
       "Modesto           0.333333             0.0           NaN            0.5                1.0  0.666667\n",
       "Malcolm           0.333333             NaN           0.0            0.0                0.5  0.333333\n",
       "Maurice           0.000000             0.0           0.0            1.0                NaN  1.000000"
      ]
     },
     "execution_count": 6,
     "metadata": {},
     "output_type": "execute_result"
    }
   ],
   "source": [
    "normalized_ratings = (movie_ratings - movie_ratings.min()) / (movie_ratings.max() - movie_ratings.min())\n",
    "normalized_ratings"
   ]
  },
  {
   "cell_type": "markdown",
   "metadata": {},
   "source": [
    "##### 3a. Show average normalized ratings for each user."
   ]
  },
  {
   "cell_type": "code",
   "execution_count": 7,
   "metadata": {},
   "outputs": [
    {
     "data": {
      "text/plain": [
       "John		0.766667\n",
       "Logan      	0.400000\n",
       "Modesto     0.500000\n",
       "Malcolm     0.233333\n",
       "Maurice     0.400000\n",
       "dtype: float64"
      ]
     },
     "execution_count": 7,
     "metadata": {},
     "output_type": "execute_result"
    }
   ],
   "source": [
    "avg_normalized_user_ratings = normalized_ratings.mean(axis=1)\n",
    "avg_normalized_user_ratings"
   ]
  },
  {
   "cell_type": "markdown",
   "metadata": {},
   "source": [
    "###### 3b. Show average normalized ratings for each movie."
   ]
  },
  {
   "cell_type": "code",
   "execution_count": 8,
   "metadata": {},
   "outputs": [
    {
     "data": {
      "text/plain": [
       "AmericanSniper		0.466667\n",
       "EdgeofTomorrow      0.333333\n",
       "GroundhogDay      	0.250000\n",
       "JurassicWorld    	0.625000\n",
       "LostInTranslation   0.500000\n",
       "Lucy             	0.533333\n",
       "dtype: float64"
      ]
     },
     "execution_count": 8,
     "metadata": {},
     "output_type": "execute_result"
    }
   ],
   "source": [
    "avg_normalized_movie_ratings = normalized_ratings.mean()\n",
    "avg_normalized_movie_ratings"
   ]
  },
  {
   "cell_type": "markdown",
   "metadata": {},
   "source": [
    "#### Provide a text-based conclusion: explain what might be advantages and disadvantages of using normalized ratings instead of the actual ratings."
   ]
  },
  {
   "cell_type": "markdown",
   "metadata": {},
   "source": [
    "Based on the analysis of normalized ratings and actual ratings provide, it yields different conclusion of the same data set.  Normalizing is better in data duplication in a bigger data set and can easily grouped. The disdvantages of normalized ratings interprets the ratings scale from 0 to 1, it can be confusing for the audience to comprehend.  Depending on the story the person analyzing the data wish to tell and the audience it is presented to where one might be a better representation over the other."
   ]
  },
  {
   "cell_type": "markdown",
   "metadata": {},
   "source": [
    "##### 5. [Extra Credit] Create another new pandas dataframe, with standardized ratings for each user"
   ]
  },
  {
   "cell_type": "code",
   "execution_count": 9,
   "metadata": {},
   "outputs": [
    {
     "data": {
      "text/html": [
       "<div>\n",
       "<style scoped>\n",
       "    .dataframe tbody tr th:only-of-type {\n",
       "        vertical-align: middle;\n",
       "    }\n",
       "\n",
       "    .dataframe tbody tr th {\n",
       "        vertical-align: top;\n",
       "    }\n",
       "\n",
       "    .dataframe thead th {\n",
       "        text-align: right;\n",
       "    }\n",
       "</style>\n",
       "<table border=\"1\" class=\"dataframe\">\n",
       "  <thead>\n",
       "    <tr style=\"text-align: right;\">\n",
       "      <th></th>\n",
       "      <th>AmericanSniper</th>\n",
       "      <th>EdgeofTomorrow</th>\n",
       "      <th>GroundhogDay</th>\n",
       "      <th>JurassicWorld</th>\n",
       "      <th>LostInTranslation</th>\n",
       "      <th>Lucy</th>\n",
       "    </tr>\n",
       "  </thead>\n",
       "  <tbody>\n",
       "    <tr>\n",
       "      <th>John</th>\n",
       "      <td>0.526235</td>\n",
       "      <td>NaN</td>\n",
       "      <td>1.5</td>\n",
       "      <td>0.783349</td>\n",
       "      <td>0.000000</td>\n",
       "      <td>0.350823</td>\n",
       "    </tr>\n",
       "    <tr>\n",
       "      <th>Logan</th>\n",
       "      <td>1.403293</td>\n",
       "      <td>1.154701</td>\n",
       "      <td>-0.5</td>\n",
       "      <td>NaN</td>\n",
       "      <td>-1.224745</td>\n",
       "      <td>-1.403293</td>\n",
       "    </tr>\n",
       "    <tr>\n",
       "      <th>Modesto</th>\n",
       "      <td>-0.350823</td>\n",
       "      <td>-0.577350</td>\n",
       "      <td>NaN</td>\n",
       "      <td>-0.261116</td>\n",
       "      <td>1.224745</td>\n",
       "      <td>0.350823</td>\n",
       "    </tr>\n",
       "    <tr>\n",
       "      <th>Malcolm</th>\n",
       "      <td>-0.350823</td>\n",
       "      <td>NaN</td>\n",
       "      <td>-0.5</td>\n",
       "      <td>-1.305582</td>\n",
       "      <td>0.000000</td>\n",
       "      <td>-0.526235</td>\n",
       "    </tr>\n",
       "    <tr>\n",
       "      <th>Maurice</th>\n",
       "      <td>-1.227881</td>\n",
       "      <td>-0.577350</td>\n",
       "      <td>-0.5</td>\n",
       "      <td>0.783349</td>\n",
       "      <td>NaN</td>\n",
       "      <td>1.227881</td>\n",
       "    </tr>\n",
       "  </tbody>\n",
       "</table>\n",
       "</div>"
      ],
      "text/plain": [
       "            AmericanSniper      EdgeofTomorrow  GroundhogDay  JurassicWorld  LostInTranslation      Lucy\n",
       "John              0.526235                 NaN           1.5       0.783349           0.000000  0.350823\n",
       "Logan             1.403293            1.154701          -0.5            NaN          -1.224745 -1.403293\n",
       "Modesto          -0.350823           -0.577350           NaN      -0.261116           1.224745  0.350823\n",
       "Malcolm          -0.350823                 NaN          -0.5      -1.305582           0.000000 -0.526235\n",
       "Maurice          -1.227881           -0.577350          -0.5       0.783349                NaN  1.227881"
      ]
     },
     "execution_count": 9,
     "metadata": {},
     "output_type": "execute_result"
    }
   ],
   "source": [
    "standardized_ratings = (movie_ratings-movie_ratings.mean()) / movie_ratings.std()\n",
    "standardized_ratings"
   ]
  },
  {
   "cell_type": "markdown",
   "metadata": {},
   "source": [
    "##### 5a. Average standardized ratings for each user."
   ]
  },
  {
   "cell_type": "code",
   "execution_count": 14,
   "metadata": {},
   "outputs": [
    {
     "data": {
      "text/plain": [
       "John		0.596999\n",
       "Logan      -0.149091\n",
       "Modesto     0.217585\n",
       "Malcolm    -0.571610\n",
       "Maurice    -0.093882\n",
       "dtype: float64"
      ]
     },
     "execution_count": 14,
     "metadata": {},
     "output_type": "execute_result"
    }
   ],
   "source": [
    "avg_standardized_user_ratings = standardized_ratings.mean(axis=1)\n",
    "avg_standardized_user_ratings"
   ]
  },
  {
   "cell_type": "markdown",
   "metadata": {},
   "source": [
    "##### 5b. Average standardized ratings for each movie."
   ]
  },
  {
   "cell_type": "code",
   "execution_count": 10,
   "metadata": {},
   "outputs": [
    {
     "data": {
      "text/plain": [
       "AmericanSniper		8.881784e-17\n",
       "EdgeofTomorrow      0.000000e+00\n",
       "GroundhogDay      	0.000000e+00\n",
       "JurassicWorld    	5.551115e-17\n",
       "LostInTranslation   0.000000e+00\n",
       "Lucy               -8.881784e-17\n",
       "dtype: float64"
      ]
     },
     "execution_count": 10,
     "metadata": {},
     "output_type": "execute_result"
    }
   ],
   "source": [
    "avg_standardized_movie_ratings = standardized_ratings.mean()\n",
    "avg_standardized_movie_ratings"
   ]
  }
 ],
 "metadata": {
  "kernelspec": {
   "display_name": "Python 2",
   "language": "python",
   "name": "python2"
  },
  "language_info": {
   "codemirror_mode": {
    "name": "ipython",
    "version": 2
   },
   "file_extension": ".py",
   "mimetype": "text/x-python",
   "name": "python",
   "nbconvert_exporter": "python",
   "pygments_lexer": "ipython2",
   "version": "2.7.15"
  }
 },
 "nbformat": 4,
 "nbformat_minor": 2
}
